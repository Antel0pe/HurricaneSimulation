{
  "nbformat": 4,
  "nbformat_minor": 0,
  "metadata": {
    "colab": {
      "provenance": []
    },
    "kernelspec": {
      "name": "python3",
      "display_name": "Python 3"
    },
    "language_info": {
      "name": "python"
    }
  },
  "cells": [
    {
      "cell_type": "code",
      "source": [
        "import numpy as np\n",
        "import pandas as pd\n",
        "import itertools"
      ],
      "metadata": {
        "id": "GQcx_hS3Dx6R"
      },
      "execution_count": 57,
      "outputs": []
    },
    {
      "cell_type": "code",
      "execution_count": 58,
      "metadata": {
        "colab": {
          "base_uri": "https://localhost:8080/"
        },
        "id": "19N2kkDsDKhv",
        "outputId": "111a821b-cb03-47bf-cc24-2efd4da54da8"
      },
      "outputs": [
        {
          "output_type": "stream",
          "name": "stdout",
          "text": [
            "    x  y  elevation  temp  state\n",
            "0   0  0          0     0      0\n",
            "1   0  0          0     0      0\n",
            "2   0  0          0     0      0\n",
            "3   0  0          0     0      0\n",
            "4   0  0          0     0      0\n",
            ".. .. ..        ...   ...    ...\n",
            "95  0  0          0     0      0\n",
            "96  0  0          0     0      0\n",
            "97  0  0          0     0      0\n",
            "98  0  0          0     0      0\n",
            "99  0  0          0     0      0\n",
            "\n",
            "[100 rows x 5 columns]\n"
          ]
        }
      ],
      "source": [
        "# Create a 100x100 array at elevation 0\n",
        "numParticlesGridLength = 10\n",
        "numAttr = 5\n",
        "waterMolecules = np.zeros((numParticlesGridLength**2, numAttr), dtype=int)\n",
        "\n",
        "df = pd.DataFrame(waterMolecules, columns=['x', 'y', 'elevation', 'temp', 'state'])\n",
        "print(df)"
      ]
    },
    {
      "cell_type": "code",
      "source": [
        "df['state'] = 'liquid'\n",
        "print(df)"
      ],
      "metadata": {
        "colab": {
          "base_uri": "https://localhost:8080/"
        },
        "id": "RWMHus07IoVb",
        "outputId": "638dd642-0b8d-47f3-8e29-0dadfac8f103"
      },
      "execution_count": 59,
      "outputs": [
        {
          "output_type": "stream",
          "name": "stdout",
          "text": [
            "    x  y  elevation  temp   state\n",
            "0   0  0          0     0  liquid\n",
            "1   0  0          0     0  liquid\n",
            "2   0  0          0     0  liquid\n",
            "3   0  0          0     0  liquid\n",
            "4   0  0          0     0  liquid\n",
            ".. .. ..        ...   ...     ...\n",
            "95  0  0          0     0  liquid\n",
            "96  0  0          0     0  liquid\n",
            "97  0  0          0     0  liquid\n",
            "98  0  0          0     0  liquid\n",
            "99  0  0          0     0  liquid\n",
            "\n",
            "[100 rows x 5 columns]\n"
          ]
        }
      ]
    },
    {
      "cell_type": "code",
      "source": [
        "combinations = list(itertools.product(range(numParticlesGridLength), repeat=2))\n",
        "df['x'], df['y'] = zip(*combinations)\n",
        "\n",
        "print(df)"
      ],
      "metadata": {
        "colab": {
          "base_uri": "https://localhost:8080/"
        },
        "id": "XZmCxG_QFAZ_",
        "outputId": "dcce5405-69ed-4464-fb45-5764117a815d"
      },
      "execution_count": 60,
      "outputs": [
        {
          "output_type": "stream",
          "name": "stdout",
          "text": [
            "    x  y  elevation  temp   state\n",
            "0   0  0          0     0  liquid\n",
            "1   0  1          0     0  liquid\n",
            "2   0  2          0     0  liquid\n",
            "3   0  3          0     0  liquid\n",
            "4   0  4          0     0  liquid\n",
            ".. .. ..        ...   ...     ...\n",
            "95  9  5          0     0  liquid\n",
            "96  9  6          0     0  liquid\n",
            "97  9  7          0     0  liquid\n",
            "98  9  8          0     0  liquid\n",
            "99  9  9          0     0  liquid\n",
            "\n",
            "[100 rows x 5 columns]\n"
          ]
        }
      ]
    },
    {
      "cell_type": "code",
      "source": [
        "def warmUpTemp(df):\n",
        "    random_increments = np.random.randint(0, 5, size=len(df))\n",
        "    df['temp'] += random_increments\n",
        "    return df\n"
      ],
      "metadata": {
        "colab": {
          "base_uri": "https://localhost:8080/"
        },
        "id": "aO4socBhHtrR",
        "outputId": "2a6d0218-274b-4ebd-c1c3-068aa077b922"
      },
      "execution_count": 61,
      "outputs": [
        {
          "output_type": "stream",
          "name": "stdout",
          "text": [
            "    x  y  elevation  temp   state\n",
            "0   0  0          0     2  liquid\n",
            "1   0  1          0     2  liquid\n",
            "2   0  2          0     4  liquid\n",
            "3   0  3          0     1  liquid\n",
            "4   0  4          0     4  liquid\n",
            ".. .. ..        ...   ...     ...\n",
            "95  9  5          0     0  liquid\n",
            "96  9  6          0     1  liquid\n",
            "97  9  7          0     4  liquid\n",
            "98  9  8          0     1  liquid\n",
            "99  9  9          0     3  liquid\n",
            "\n",
            "[100 rows x 5 columns]\n"
          ]
        }
      ]
    },
    {
      "cell_type": "code",
      "source": [
        "for i in range(10):\n",
        "    df = warmUpTemp(df)\n",
        "\n",
        "df.loc[df['temp'] >= 100, 'state']= 'gas'\n",
        "print(df)\n"
      ],
      "metadata": {
        "colab": {
          "base_uri": "https://localhost:8080/"
        },
        "id": "TeBuvSxRD3FP",
        "outputId": "8f4d0c46-3525-4ec6-e487-64ed145eb74f"
      },
      "execution_count": 66,
      "outputs": [
        {
          "output_type": "stream",
          "name": "stdout",
          "text": [
            "    x  y  elevation  temp   state\n",
            "0   0  0          0   106     gas\n",
            "1   0  1          0   102     gas\n",
            "2   0  2          0   104     gas\n",
            "3   0  3          0   112     gas\n",
            "4   0  4          0    79  liquid\n",
            ".. .. ..        ...   ...     ...\n",
            "95  9  5          0    98  liquid\n",
            "96  9  6          0   101     gas\n",
            "97  9  7          0   113     gas\n",
            "98  9  8          0    93  liquid\n",
            "99  9  9          0   112     gas\n",
            "\n",
            "[100 rows x 5 columns]\n"
          ]
        }
      ]
    }
  ]
}