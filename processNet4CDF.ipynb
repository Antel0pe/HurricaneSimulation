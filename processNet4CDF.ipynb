{
  "nbformat": 4,
  "nbformat_minor": 0,
  "metadata": {
    "colab": {
      "provenance": []
    },
    "kernelspec": {
      "name": "python3",
      "display_name": "Python 3"
    },
    "language_info": {
      "name": "python"
    }
  },
  "cells": [
    {
      "cell_type": "code",
      "source": [
        "!pip install netCDF4"
      ],
      "metadata": {
        "colab": {
          "base_uri": "https://localhost:8080/"
        },
        "id": "wn-UUB335rlP",
        "outputId": "53f08dfc-7815-4cb1-eb2c-076cd45faa29"
      },
      "execution_count": 27,
      "outputs": [
        {
          "output_type": "stream",
          "name": "stdout",
          "text": [
            "Requirement already satisfied: netCDF4 in /usr/local/lib/python3.10/dist-packages (1.7.2)\n",
            "Requirement already satisfied: cftime in /usr/local/lib/python3.10/dist-packages (from netCDF4) (1.6.4.post1)\n",
            "Requirement already satisfied: certifi in /usr/local/lib/python3.10/dist-packages (from netCDF4) (2024.8.30)\n",
            "Requirement already satisfied: numpy in /usr/local/lib/python3.10/dist-packages (from netCDF4) (1.26.4)\n"
          ]
        }
      ]
    },
    {
      "cell_type": "code",
      "source": [
        "!pip install cftime"
      ],
      "metadata": {
        "colab": {
          "base_uri": "https://localhost:8080/"
        },
        "id": "zdZG2rsZ52h_",
        "outputId": "00fe066b-9bcc-4acc-9505-58d4e76c4df4"
      },
      "execution_count": 31,
      "outputs": [
        {
          "output_type": "stream",
          "name": "stdout",
          "text": [
            "Requirement already satisfied: cftime in /usr/local/lib/python3.10/dist-packages (1.6.4.post1)\n",
            "Requirement already satisfied: numpy>1.13.3 in /usr/local/lib/python3.10/dist-packages (from cftime) (1.26.4)\n"
          ]
        }
      ]
    },
    {
      "cell_type": "code",
      "source": [
        "import cftime\n",
        "\n",
        "print(f\"cftime version: {cftime.__version__}\")\n"
      ],
      "metadata": {
        "colab": {
          "base_uri": "https://localhost:8080/"
        },
        "id": "lwu10EfD9arD",
        "outputId": "32ec2407-27a3-4079-8661-c54fd514d247"
      },
      "execution_count": 32,
      "outputs": [
        {
          "output_type": "stream",
          "name": "stdout",
          "text": [
            "cftime version: 1.6.4.post1\n"
          ]
        }
      ]
    },
    {
      "cell_type": "code",
      "source": [
        "import xarray as xr\n",
        "import cftime\n",
        "import netCDF4\n",
        "\n",
        "# Open the dataset with decode_times enabled\n",
        "ds = xr.open_dataset('air.mon.1981-2010.ltm.nc', decode_times=False)\n",
        "\n",
        "# Convert time values to formatted strings\n",
        "time_values = ds['time'].values\n",
        "time_units = ds['time'].attrs['units']  # e.g., \"days since 1800-01-01 00:00:0.0\"\n",
        "calendar = ds['time'].attrs.get('calendar', 'standard')\n",
        "\n",
        "# Convert to datetime objects\n",
        "dates = netCDF4.num2date(time_values, units=time_units, calendar=calendar)\n",
        "\n",
        "\n",
        "# Optionally, convert to a list for easier handling\n",
        "human_readable_dates = dates.tolist()\n",
        "\n",
        "for date in human_readable_dates[:12]:\n",
        "    print(date.strftime('%Y-%m-%d'))\n"
      ],
      "metadata": {
        "colab": {
          "base_uri": "https://localhost:8080/"
        },
        "id": "L5ufMIpi6yt-",
        "outputId": "9858d726-a9c0-4678-e238-e179ea290f91"
      },
      "execution_count": 40,
      "outputs": [
        {
          "output_type": "stream",
          "name": "stdout",
          "text": [
            "0001-01-01\n",
            "0001-02-01\n",
            "0001-03-01\n",
            "0001-04-01\n",
            "0001-05-01\n",
            "0001-06-01\n",
            "0001-07-01\n",
            "0001-08-01\n",
            "0001-09-01\n",
            "0001-10-01\n",
            "0001-11-01\n",
            "0001-12-01\n"
          ]
        }
      ]
    },
    {
      "cell_type": "code",
      "source": [
        "air_da = ds['air']\n",
        "\n",
        "# Convert the DataArray to a Pandas DataFrame\n",
        "df = air_da.to_dataframe().reset_index()\n",
        "\n",
        "# Rename columns for clarity (optional but recommended)\n",
        "df.rename(columns={\n",
        "    'time': 'Date',\n",
        "    'level': 'Pressure_Level_hPa',\n",
        "    'lat': 'Latitude',\n",
        "    'lon': 'Longitude',\n",
        "    'air': 'Air_Temperature'\n",
        "}, inplace=True)\n",
        "\n",
        "# Display the first few rows of the DataFrame\n",
        "print(df.head())"
      ],
      "metadata": {
        "colab": {
          "base_uri": "https://localhost:8080/"
        },
        "id": "xwp9v2Z6-g61",
        "outputId": "d4e03eaa-bf15-42a2-8606-a6bd62705aeb"
      },
      "execution_count": 47,
      "outputs": [
        {
          "output_type": "stream",
          "name": "stdout",
          "text": [
            "       Date  Pressure_Level_hPa  Latitude  Longitude  Air_Temperature\n",
            "0 -657073.0              1000.0      90.0        0.0       -28.217329\n",
            "1 -657073.0              1000.0      90.0        2.5       -28.217329\n",
            "2 -657073.0              1000.0      90.0        5.0       -28.217329\n",
            "3 -657073.0              1000.0      90.0        7.5       -28.217329\n",
            "4 -657073.0              1000.0      90.0       10.0       -28.217329\n",
            "<class 'pandas.core.frame.DataFrame'>\n",
            "RangeIndex: 2144448 entries, 0 to 2144447\n",
            "Data columns (total 5 columns):\n",
            " #   Column              Dtype  \n",
            "---  ------              -----  \n",
            " 0   Date                float64\n",
            " 1   Pressure_Level_hPa  float32\n",
            " 2   Latitude            float32\n",
            " 3   Longitude           float32\n",
            " 4   Air_Temperature     float32\n",
            "dtypes: float32(4), float64(1)\n",
            "memory usage: 49.1 MB\n",
            "None\n"
          ]
        }
      ]
    },
    {
      "cell_type": "code",
      "source": [
        "# Check the memory usage of the DataFrame\n",
        "print(df.memory_usage(deep=True))\n",
        "\n",
        "# Convert data types to more efficient types if possible\n",
        "df['Pressure_Level_hPa'] = df['Pressure_Level_hPa'].astype('float32')\n",
        "df['Latitude'] = df['Latitude'].astype('float32')\n",
        "df['Longitude'] = df['Longitude'].astype('float32')\n",
        "df['Air_Temperature'] = df['Air_Temperature'].astype('float32')\n",
        "\n",
        "# Verify the updated memory usage\n",
        "print(df.memory_usage(deep=True))\n"
      ],
      "metadata": {
        "colab": {
          "base_uri": "https://localhost:8080/"
        },
        "id": "4SQDulQ1_dYA",
        "outputId": "7e749114-ed64-4346-c344-43025fb12a95"
      },
      "execution_count": 46,
      "outputs": [
        {
          "output_type": "stream",
          "name": "stdout",
          "text": [
            "Index                      128\n",
            "Date                  17155584\n",
            "Pressure_Level_hPa     8577792\n",
            "Latitude               8577792\n",
            "Longitude              8577792\n",
            "Air_Temperature        8577792\n",
            "dtype: int64\n",
            "Index                      128\n",
            "Date                  17155584\n",
            "Pressure_Level_hPa     8577792\n",
            "Latitude               8577792\n",
            "Longitude              8577792\n",
            "Air_Temperature        8577792\n",
            "dtype: int64\n"
          ]
        }
      ]
    },
    {
      "cell_type": "code",
      "source": [
        "df.rename(columns={\n",
        "    'time': 'Date',\n",
        "    'level': 'Pressure_Level_hPa',\n",
        "    'lat': 'Latitude',\n",
        "    'lon': 'Longitude',\n",
        "    'air': 'Air_Temperature'\n",
        "}, inplace=True)\n",
        "print(df.head())"
      ],
      "metadata": {
        "colab": {
          "base_uri": "https://localhost:8080/"
        },
        "id": "cU-ca1cvAioW",
        "outputId": "18339f6e-6a45-46a7-a08b-6250f7b2dc4d"
      },
      "execution_count": 49,
      "outputs": [
        {
          "output_type": "stream",
          "name": "stdout",
          "text": [
            "       Date  Pressure_Level_hPa  Latitude  Longitude  Air_Temperature\n",
            "0 -657073.0              1000.0      90.0        0.0       -28.217329\n",
            "1 -657073.0              1000.0      90.0        2.5       -28.217329\n",
            "2 -657073.0              1000.0      90.0        5.0       -28.217329\n",
            "3 -657073.0              1000.0      90.0        7.5       -28.217329\n",
            "4 -657073.0              1000.0      90.0       10.0       -28.217329\n"
          ]
        }
      ]
    },
    {
      "cell_type": "code",
      "source": [
        "# Step 7: Calculate spatial points per time\n",
        "num_levels = ds.dims['level']      # 17\n",
        "num_lats = ds.dims['lat']          # 73\n",
        "num_lons = ds.dims['lon']          # 144\n",
        "spatial_points_per_time = num_levels * num_lats * num_lons  # 178,464\n",
        "\n",
        "# Step 8: Number of time points\n",
        "num_times = ds.dims['time']        # 12\n",
        "\n",
        "# Step 9: Expected DataFrame length\n",
        "expected_length = num_times * spatial_points_per_time  # 2,141,568\n",
        "actual_length = len(df)\n",
        "print(f\"Expected DataFrame length: {expected_length}\")\n",
        "print(f\"Actual DataFrame length: {actual_length}\")\n"
      ],
      "metadata": {
        "colab": {
          "base_uri": "https://localhost:8080/"
        },
        "id": "MoFb7zbZAoKa",
        "outputId": "538fb723-e352-4983-bb9d-7e0abcb1065d"
      },
      "execution_count": 50,
      "outputs": [
        {
          "output_type": "stream",
          "name": "stdout",
          "text": [
            "Expected DataFrame length: 2144448\n",
            "Actual DataFrame length: 2144448\n"
          ]
        },
        {
          "output_type": "stream",
          "name": "stderr",
          "text": [
            "<ipython-input-50-9425022e8415>:2: FutureWarning: The return type of `Dataset.dims` will be changed to return a set of dimension names in future, in order to be more consistent with `DataArray.dims`. To access a mapping from dimension names to lengths, please use `Dataset.sizes`.\n",
            "  num_levels = ds.dims['level']      # 17\n",
            "<ipython-input-50-9425022e8415>:3: FutureWarning: The return type of `Dataset.dims` will be changed to return a set of dimension names in future, in order to be more consistent with `DataArray.dims`. To access a mapping from dimension names to lengths, please use `Dataset.sizes`.\n",
            "  num_lats = ds.dims['lat']          # 73\n",
            "<ipython-input-50-9425022e8415>:4: FutureWarning: The return type of `Dataset.dims` will be changed to return a set of dimension names in future, in order to be more consistent with `DataArray.dims`. To access a mapping from dimension names to lengths, please use `Dataset.sizes`.\n",
            "  num_lons = ds.dims['lon']          # 144\n",
            "<ipython-input-50-9425022e8415>:8: FutureWarning: The return type of `Dataset.dims` will be changed to return a set of dimension names in future, in order to be more consistent with `DataArray.dims`. To access a mapping from dimension names to lengths, please use `Dataset.sizes`.\n",
            "  num_times = ds.dims['time']        # 12\n"
          ]
        }
      ]
    },
    {
      "cell_type": "code",
      "source": [
        "import numpy as np\n",
        "# Step 10: Replace 'Date' column\n",
        "if expected_length == actual_length:\n",
        "    # Correct replacement\n",
        "    repeated_dates = np.repeat(human_readable_dates, spatial_points_per_time)\n",
        "    df['Date'] = repeated_dates\n",
        "    print(df.head())\n",
        "else:\n",
        "    print('ERROR: expected and actual length do not match')"
      ],
      "metadata": {
        "colab": {
          "base_uri": "https://localhost:8080/"
        },
        "id": "hjiFJqO0AsIp",
        "outputId": "9ed5845c-19df-4c96-e78f-71727219b71c"
      },
      "execution_count": 57,
      "outputs": [
        {
          "output_type": "stream",
          "name": "stdout",
          "text": [
            "                  Date  Pressure_Level_hPa  Latitude  Longitude  \\\n",
            "0  0001-01-01 00:00:00              1000.0      90.0        0.0   \n",
            "1  0001-01-01 00:00:00              1000.0      90.0        2.5   \n",
            "2  0001-01-01 00:00:00              1000.0      90.0        5.0   \n",
            "3  0001-01-01 00:00:00              1000.0      90.0        7.5   \n",
            "4  0001-01-01 00:00:00              1000.0      90.0       10.0   \n",
            "\n",
            "   Air_Temperature  \n",
            "0       -28.217329  \n",
            "1       -28.217329  \n",
            "2       -28.217329  \n",
            "3       -28.217329  \n",
            "4       -28.217329  \n"
          ]
        }
      ]
    },
    {
      "cell_type": "code",
      "source": [
        "# Step 11: Convert 'Date' column to string type (if not already)\n",
        "df['Date'] = df['Date'].astype(str)\n",
        "\n",
        "\n",
        "print(df[df['Date'] == '0001-01-01 00:00:00'])"
      ],
      "metadata": {
        "colab": {
          "base_uri": "https://localhost:8080/"
        },
        "id": "lj--0ffXExDX",
        "outputId": "697a1388-3a50-484d-f6ba-4f7cbcdde5f3"
      },
      "execution_count": 69,
      "outputs": [
        {
          "output_type": "stream",
          "name": "stdout",
          "text": [
            "                       Date  Pressure_Level_hPa  Latitude  Longitude  \\\n",
            "0       0001-01-01 00:00:00              1000.0      90.0        0.0   \n",
            "1       0001-01-01 00:00:00              1000.0      90.0        2.5   \n",
            "2       0001-01-01 00:00:00              1000.0      90.0        5.0   \n",
            "3       0001-01-01 00:00:00              1000.0      90.0        7.5   \n",
            "4       0001-01-01 00:00:00              1000.0      90.0       10.0   \n",
            "...                     ...                 ...       ...        ...   \n",
            "178699  0001-01-01 00:00:00                10.0     -90.0      347.5   \n",
            "178700  0001-01-01 00:00:00                10.0     -90.0      350.0   \n",
            "178701  0001-01-01 00:00:00                10.0     -90.0      352.5   \n",
            "178702  0001-01-01 00:00:00                10.0     -90.0      355.0   \n",
            "178703  0001-01-01 00:00:00                10.0     -90.0      357.5   \n",
            "\n",
            "        Air_Temperature  \n",
            "0            -28.217329  \n",
            "1            -28.217329  \n",
            "2            -28.217329  \n",
            "3            -28.217329  \n",
            "4            -28.217329  \n",
            "...                 ...  \n",
            "178699       -24.189997  \n",
            "178700       -24.189997  \n",
            "178701       -24.189997  \n",
            "178702       -24.189997  \n",
            "178703       -24.189997  \n",
            "\n",
            "[178704 rows x 5 columns]\n"
          ]
        }
      ]
    }
  ]
}